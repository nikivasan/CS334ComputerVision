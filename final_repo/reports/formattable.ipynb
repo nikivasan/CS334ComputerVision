{
 "cells": [
  {
   "cell_type": "code",
   "execution_count": 1,
   "metadata": {},
   "outputs": [],
   "source": [
    "import pandas as pd\n",
    "import numpy as np\n",
    "import os\n",
    "import glob"
   ]
  },
  {
   "cell_type": "code",
   "execution_count": 2,
   "metadata": {},
   "outputs": [],
   "source": [
    "results_base = '../analysis/'\n",
    "results_paths = glob.glob(os.path.join(results_base, '**/results.csv'), recursive=True)"
   ]
  },
  {
   "cell_type": "code",
   "execution_count": 3,
   "metadata": {},
   "outputs": [
    {
     "data": {
      "text/plain": [
       "['../analysis/focal_loss/icu/results.csv',\n",
       " '../analysis/focal_loss/insurance/results.csv',\n",
       " '../analysis/focal_loss/sex/results.csv',\n",
       " '../analysis/focal_loss/race/results.csv',\n",
       " '../analysis/focal_loss/age/results.csv',\n",
       " '../analysis/baseline/age/results.csv',\n",
       " '../analysis/baseline/sex/results.csv',\n",
       " '../analysis/baseline/insurance/results.csv',\n",
       " '../analysis/baseline/race/results.csv',\n",
       " '../analysis/baseline/icu/results.csv',\n",
       " '../analysis/cyclical_lr/sex/results.csv',\n",
       " '../analysis/cyclical_lr/race/results.csv',\n",
       " '../analysis/cyclical_lr/age/results.csv',\n",
       " '../analysis/cyclical_lr/icu/results.csv',\n",
       " '../analysis/cyclical_lr/insurance/results.csv']"
      ]
     },
     "execution_count": 3,
     "metadata": {},
     "output_type": "execute_result"
    }
   ],
   "source": [
    "results_paths"
   ]
  },
  {
   "cell_type": "code",
   "execution_count": 4,
   "metadata": {},
   "outputs": [],
   "source": [
    "test = pd.read_csv(results_paths[-4])"
   ]
  },
  {
   "cell_type": "code",
   "execution_count": 7,
   "metadata": {},
   "outputs": [],
   "source": [
    "def clean_table(df):\n",
    "    # Drop index columns\n",
    "    df = df.drop([x for x in list(df) if 'Unnamed' in x], axis=1)\n",
    "    roc = df.filter(['Label', 'Strata', 'ROCAUC', 'CI_ROC'], axis=1)\n",
    "    pr = df.filter(['Label', 'Strata', 'PRAUC', 'CI_PR'], axis=1)\n",
    "    df['ROCAUC_CI'] = df.apply(lambda x: str(round(x['ROCAUC'], 2)) + x['CI_ROC'], axis=1)\n",
    "\n",
    "    roc_piv = pd.pivot_table(df, values=['ROCAUC', 'PRAUC'], index='Label', columns='Strata').reset_index().rename({'index' : 'Label'}, axis=1)\n",
    "    return roc_piv\n"
   ]
  },
  {
   "cell_type": "code",
   "execution_count": 8,
   "metadata": {},
   "outputs": [],
   "source": [
    "for path in results_paths:\n",
    "    dest = \"/\".join(path.split(\"/\")[:-1])\n",
    "    df = pd.read_csv(path)\n",
    "    out = clean_table(df)\n",
    "    out.to_csv(os.path.join(dest, 'results_modified.csv'), index=False)"
   ]
  },
  {
   "cell_type": "code",
   "execution_count": null,
   "metadata": {},
   "outputs": [],
   "source": []
  }
 ],
 "metadata": {
  "kernelspec": {
   "display_name": "Python 3.6.9 ('venv': venv)",
   "language": "python",
   "name": "python3"
  },
  "language_info": {
   "codemirror_mode": {
    "name": "ipython",
    "version": 3
   },
   "file_extension": ".py",
   "mimetype": "text/x-python",
   "name": "python",
   "nbconvert_exporter": "python",
   "pygments_lexer": "ipython3",
   "version": "3.6.9"
  },
  "orig_nbformat": 4,
  "vscode": {
   "interpreter": {
    "hash": "b71903fdf5e5c7bdde6a409325eb92e465a323779c4144f12fe6d3417221c6a5"
   }
  }
 },
 "nbformat": 4,
 "nbformat_minor": 2
}
